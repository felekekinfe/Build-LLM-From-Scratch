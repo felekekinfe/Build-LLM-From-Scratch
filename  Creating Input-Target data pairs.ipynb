{
 "cells": [
  {
   "cell_type": "code",
   "execution_count": 1,
   "metadata": {},
   "outputs": [],
   "source": [
    "import tiktoken"
   ]
  },
  {
   "cell_type": "code",
   "execution_count": 2,
   "metadata": {},
   "outputs": [],
   "source": [
    "with open('data/astu overview.txt','r') as f:\n",
    "    raw_text=f.read()"
   ]
  },
  {
   "cell_type": "code",
   "execution_count": 6,
   "metadata": {},
   "outputs": [],
   "source": [
    "tokenizer=tiktoken.get_encoding('gpt2')"
   ]
  },
  {
   "cell_type": "code",
   "execution_count": 7,
   "metadata": {},
   "outputs": [],
   "source": [
    "encodded=tokenizer.encode(raw_text)"
   ]
  },
  {
   "cell_type": "code",
   "execution_count": 9,
   "metadata": {},
   "outputs": [
    {
     "name": "stdout",
     "output_type": "stream",
     "text": [
      "X:[21009, 6530, 25, 1215]\n",
      "Y:     [6530, 25, 1215, 1689]\n"
     ]
    }
   ],
   "source": [
    "context_window=4\n",
    "\n",
    "x=encodded[:context_window]\n",
    "y=encodded[1:context_window+1]\n",
    "\n",
    "print(f'X:{x}')\n",
    "print(f'Y:     {y}')"
   ]
  },
  {
   "cell_type": "code",
   "execution_count": 10,
   "metadata": {},
   "outputs": [
    {
     "name": "stdout",
     "output_type": "stream",
     "text": [
      "context:[21009]---->target:6530\n",
      "context:[21009, 6530]---->target:25\n",
      "context:[21009, 6530, 25]---->target:1215\n",
      "context:[21009, 6530, 25, 1215]---->target:1689\n"
     ]
    }
   ],
   "source": [
    "for i in range(1,context_window+1):\n",
    "    context=encodded[:i]\n",
    "    target=encodded[i]\n",
    "\n",
    "    print(f'context:{context}---->target:{target}')\n",
    "\n",
    "#everythin on the left of the arrow is input llm can take and the right side is expected prediction from the lllm"
   ]
  },
  {
   "cell_type": "code",
   "execution_count": 12,
   "metadata": {},
   "outputs": [
    {
     "name": "stdout",
     "output_type": "stream",
     "text": [
      "University ----->  Name\n",
      "University Name -----> :\n",
      "University Name: ----->  Ad\n",
      "University Name: Ad -----> ama\n"
     ]
    }
   ],
   "source": [
    "#decode\n",
    "\n",
    "for i in range(1,context_window+1):\n",
    "    context=encodded[:i]\n",
    "    target=encodded[i]\n",
    "    print(tokenizer.decode(context),'----->',tokenizer.decode([target]))\n"
   ]
  },
  {
   "cell_type": "markdown",
   "metadata": {},
   "source": [
    "## Implementing DataLoaders"
   ]
  },
  {
   "cell_type": "code",
   "execution_count": 13,
   "metadata": {},
   "outputs": [],
   "source": [
    "from torch.utils.data import Dataset,DataLoader"
   ]
  },
  {
   "cell_type": "code",
   "execution_count": 14,
   "metadata": {},
   "outputs": [],
   "source": [
    "class GPTDatasetV1(Dataset):\n",
    "    def __init_(self,txt,tokenizerm,context_window,stride):\n",
    "        self.input_id=[]\n",
    "        self.target_id=[]\n",
    "\n",
    "        #tokenize the txt dataset\n",
    "        token_ids=tokenizer.encode(txt)\n",
    "\n",
    "        #use sliding window to prepare input target tensor pair\n",
    "\n",
    "        for i in range(0,len(token_id)-context_window,stride):\n",
    "            input_chunk=token_ids[i:i+context_window]\n",
    "            target_chunk=tokenids[i+1:i+context_window+1]\n",
    "            self.input_id.append(torch.tensor(input_chunk))\n",
    "            self.target_id.append(toch.tensor(target_chunk))\n",
    "        \n",
    "    def __len__(self):\n",
    "        return len(self.input_id)\n",
    "    def __getitem__(self,idx):\n",
    "\n",
    "        return self.input_id[idx],self.taget_id[idx]"
   ]
  },
  {
   "cell_type": "code",
   "execution_count": 18,
   "metadata": {},
   "outputs": [],
   "source": [
    "def create_dataloader_v1(txt,batch_size=4,context_window=256,stride=128,shuffle=True,drop_last=True,num_workers=0):\n",
    "\n",
    "    #initialize tokenizer\n",
    "    tokenizer=tiktoken.get_encoding(txt)\n",
    "\n",
    "    #create dataset\n",
    "    dataset=GPTDatasetV1(txt,tokenizer,context_window,stride)\n",
    "\n",
    "    #create dataloader\n",
    "    dataloader=DataLoader(\n",
    "        dataset,\n",
    "        batch_size=batch_size,\n",
    "        shuffle=shuffle,\n",
    "        drop_last=drop_last,\n",
    "        num_workers=num_workers\n",
    "    )\n",
    "    return dataloader\n",
    "    "
   ]
  },
  {
   "cell_type": "code",
   "execution_count": 21,
   "metadata": {},
   "outputs": [],
   "source": [
    "with open('data/astu overview.txt','r') as f:\n",
    "    raw_text=f.read()\n",
    "\n",
    "    "
   ]
  },
  {
   "cell_type": "code",
   "execution_count": 22,
   "metadata": {},
   "outputs": [
    {
     "ename": "ValueError",
     "evalue": "Unknown encoding University Name: Adama Science and Technology University (ASTU) or also called Astu\n\nAlternative Names:ASTU\n\nLocation:\nCity: Adama/Nazret\nRegion: Oromia\nCountry: Ethiopia\nApprox. Coordinates: 8.53°N, 39.28°E\n\nEstablishment History:\n1993: Founded as Nazareth Technical College (NTC).\n2003: Upgraded to Nazareth College of Technical Teacher Education (NCTTE).\n2005: Further upgraded to Adama University (AU).\n2011: Designated by the Ethiopian Ministry of Education as a Federal University of Technology and renamed Adama Science and Technology University (ASTU).\n\nType:\nPublic University\nFederal University of Science and Technology\n\nMission (Core Focus):\nTo produce highly qualified graduates in science, engineering, and technology.\nTo conduct problem-solving research relevant to national development needs.\nTo provide community service and technology transfer.\nTo become a center of excellence in applied S&T education and research.\n\nVision (Core Focus):\nTo be a leading international university of science and technology.\nTo significantly contribute to Ethiopia's industrialization and technological advancement.\n\nAcademic Structure (Schools/Colleges/Institutes):\nSchool of Engineering (often the largest, with multiple departments)\nExamples: Mechanical Engineering, Civil Engineering and Architecture, Chemical Engineering, Water Resources and Irrigation Engineering,Materials Science and Engineering.\nSchool of Applied Natural Sciences\nExamples: Physics, Chemistry, Mathematics, Biology, Geology, Pharmacy.\nSchool of Electrical Engineering and Computing\nExamples: Computer Science and Engineering(CSE), Software Engineering,electronics and communication engineering.\nSchool of Humanities and Social Sciences (often supportive roles)\nInstitute of Technology\nPostgraduate Studies Program\n\n(Note: Exact names of schools/departments and their structure can evolve. The above are typical and representative.)\n\nKey Programs Offered:\nUndergraduate (BSc, B.Tech)\nPostgraduate (MSc, M.Tech, PhD)\nFocus on STEM fields (Science, Technology, Engineering, Mathematics).\n\nCampus and Facilities:\nMain Campus: Located in Adama/Nazret.\nAcademic Buildings: Lecture halls, classrooms.\nLaboratories: Specialized labs for various engineering and science disciplines (e.g., electrical, mechanical, chemical, physics, biology labs).\nWorkshops: For practical training in engineering disciplines.\nLibrary: Central library and departmental libraries with physical and digital resources.\nICT Infrastructure: Computer labs, campus network, internet access.\nStudent Accommodation: Dormitories.\nDining Facilities: Student cafeterias.\nSports and Recreation: Sports fields, recreational facilities.\nResearch Centers: May host specialized research centers or institutes focusing on areas like renewable energy, materials science, ICT, etc.\nIncubation Centers: To support student and faculty innovation and entrepreneurship.\n\nResearch Areas and Focus:\nAligned with national development priorities of Ethiopia.\nApplied research with direct industrial and societal impact.\nKey thematic areas often include:\nRenewable Energy Technologies\nManufacturing and Industrial Engineering\nMaterials Science and Engineering\nWater Resources and Environmental Engineering\nInformation and Communication Technology (ICT) solutions\nConstruction Technology and Management\nBiotechnology and Applied Biosciences\n\n\nIndustry Linkages and Collaborations:\nMoUs and partnerships with local and international industries.\nInternships and externships for students.\nCollaborative research projects with industry.\nTechnology transfer and consultancy services.\nPartnerships with other national and international universities and research institutions.\n\nStudent Enrollment:\nTypically enrolls thousands of students annually across undergraduate and postgraduate programs.\nDraws students from all regions of Ethiopia.\n\nGovernance:\nGoverned by a University Board.\nLed by a President, Vice Presidents (for Academic Affairs, Research and Technology Transfer, Administration, etc.).\n\nSignificance and Role:\nOne of Ethiopia's key public universities dedicated to science and technology.\nPlays a crucial role in supplying skilled human resources for Ethiopia's industrial and technological development.\nContributes to national research and innovation efforts.\n\nWebsite: ww.astu.edu.et\nPhysical Address: Adama/Nazret, Ethiopia\n\n\n\n.\nPlugins found: ['tiktoken_ext.openai_public']\ntiktoken version: 0.9.0 (are you on latest?)",
     "output_type": "error",
     "traceback": [
      "\u001b[0;31m---------------------------------------------------------------------------\u001b[0m",
      "\u001b[0;31mValueError\u001b[0m                                Traceback (most recent call last)",
      "Cell \u001b[0;32mIn[22], line 3\u001b[0m\n\u001b[1;32m      1\u001b[0m \u001b[38;5;28;01mimport\u001b[39;00m\u001b[38;5;250m \u001b[39m\u001b[38;5;21;01mtorch\u001b[39;00m\n\u001b[0;32m----> 3\u001b[0m dataloader\u001b[38;5;241m=\u001b[39m\u001b[43mcreate_dataloader_v1\u001b[49m\u001b[43m(\u001b[49m\u001b[43mraw_text\u001b[49m\u001b[43m,\u001b[49m\u001b[43mbatch_size\u001b[49m\u001b[38;5;241;43m=\u001b[39;49m\u001b[38;5;241;43m1\u001b[39;49m\u001b[43m,\u001b[49m\u001b[43mstride\u001b[49m\u001b[38;5;241;43m=\u001b[39;49m\u001b[38;5;241;43m1\u001b[39;49m\u001b[43m,\u001b[49m\u001b[43mshuffle\u001b[49m\u001b[38;5;241;43m=\u001b[39;49m\u001b[38;5;28;43;01mFalse\u001b[39;49;00m\u001b[43m)\u001b[49m\n\u001b[1;32m      4\u001b[0m data_iter\u001b[38;5;241m=\u001b[39m\u001b[38;5;28miter\u001b[39m(dataloader)\n\u001b[1;32m      5\u001b[0m first_batch\u001b[38;5;241m=\u001b[39m\u001b[38;5;28mnext\u001b[39m(data_iter)\n",
      "Cell \u001b[0;32mIn[18], line 4\u001b[0m, in \u001b[0;36mcreate_dataloader_v1\u001b[0;34m(txt, batch_size, context_window, stride, shuffle, drop_last, num_workers)\u001b[0m\n\u001b[1;32m      1\u001b[0m \u001b[38;5;28;01mdef\u001b[39;00m\u001b[38;5;250m \u001b[39m\u001b[38;5;21mcreate_dataloader_v1\u001b[39m(txt,batch_size\u001b[38;5;241m=\u001b[39m\u001b[38;5;241m4\u001b[39m,context_window\u001b[38;5;241m=\u001b[39m\u001b[38;5;241m256\u001b[39m,stride\u001b[38;5;241m=\u001b[39m\u001b[38;5;241m128\u001b[39m,shuffle\u001b[38;5;241m=\u001b[39m\u001b[38;5;28;01mTrue\u001b[39;00m,drop_last\u001b[38;5;241m=\u001b[39m\u001b[38;5;28;01mTrue\u001b[39;00m,num_workers\u001b[38;5;241m=\u001b[39m\u001b[38;5;241m0\u001b[39m):\n\u001b[1;32m      2\u001b[0m \n\u001b[1;32m      3\u001b[0m     \u001b[38;5;66;03m#initialize tokenizer\u001b[39;00m\n\u001b[0;32m----> 4\u001b[0m     tokenizer\u001b[38;5;241m=\u001b[39m\u001b[43mtiktoken\u001b[49m\u001b[38;5;241;43m.\u001b[39;49m\u001b[43mget_encoding\u001b[49m\u001b[43m(\u001b[49m\u001b[43mtxt\u001b[49m\u001b[43m)\u001b[49m\n\u001b[1;32m      6\u001b[0m     \u001b[38;5;66;03m#create dataset\u001b[39;00m\n\u001b[1;32m      7\u001b[0m     dataset\u001b[38;5;241m=\u001b[39mGPTDatasetV1(txt,tokenizer,context_window,stride)\n",
      "File \u001b[0;32m~/.pyenv/versions/3.10.0/lib/python3.10/site-packages/tiktoken/registry.py:79\u001b[0m, in \u001b[0;36mget_encoding\u001b[0;34m(encoding_name)\u001b[0m\n\u001b[1;32m     76\u001b[0m     \u001b[38;5;28;01massert\u001b[39;00m ENCODING_CONSTRUCTORS \u001b[38;5;129;01mis\u001b[39;00m \u001b[38;5;129;01mnot\u001b[39;00m \u001b[38;5;28;01mNone\u001b[39;00m\n\u001b[1;32m     78\u001b[0m \u001b[38;5;28;01mif\u001b[39;00m encoding_name \u001b[38;5;129;01mnot\u001b[39;00m \u001b[38;5;129;01min\u001b[39;00m ENCODING_CONSTRUCTORS:\n\u001b[0;32m---> 79\u001b[0m     \u001b[38;5;28;01mraise\u001b[39;00m \u001b[38;5;167;01mValueError\u001b[39;00m(\n\u001b[1;32m     80\u001b[0m         \u001b[38;5;124mf\u001b[39m\u001b[38;5;124m\"\u001b[39m\u001b[38;5;124mUnknown encoding \u001b[39m\u001b[38;5;132;01m{\u001b[39;00mencoding_name\u001b[38;5;132;01m}\u001b[39;00m\u001b[38;5;124m.\u001b[39m\u001b[38;5;130;01m\\n\u001b[39;00m\u001b[38;5;124m\"\u001b[39m\n\u001b[1;32m     81\u001b[0m         \u001b[38;5;124mf\u001b[39m\u001b[38;5;124m\"\u001b[39m\u001b[38;5;124mPlugins found: \u001b[39m\u001b[38;5;132;01m{\u001b[39;00m_available_plugin_modules()\u001b[38;5;132;01m}\u001b[39;00m\u001b[38;5;130;01m\\n\u001b[39;00m\u001b[38;5;124m\"\u001b[39m\n\u001b[1;32m     82\u001b[0m         \u001b[38;5;124mf\u001b[39m\u001b[38;5;124m\"\u001b[39m\u001b[38;5;124mtiktoken version: \u001b[39m\u001b[38;5;132;01m{\u001b[39;00mtiktoken\u001b[38;5;241m.\u001b[39m__version__\u001b[38;5;132;01m}\u001b[39;00m\u001b[38;5;124m (are you on latest?)\u001b[39m\u001b[38;5;124m\"\u001b[39m\n\u001b[1;32m     83\u001b[0m     )\n\u001b[1;32m     85\u001b[0m constructor \u001b[38;5;241m=\u001b[39m ENCODING_CONSTRUCTORS[encoding_name]\n\u001b[1;32m     86\u001b[0m enc \u001b[38;5;241m=\u001b[39m Encoding(\u001b[38;5;241m*\u001b[39m\u001b[38;5;241m*\u001b[39mconstructor())\n",
      "\u001b[0;31mValueError\u001b[0m: Unknown encoding University Name: Adama Science and Technology University (ASTU) or also called Astu\n\nAlternative Names:ASTU\n\nLocation:\nCity: Adama/Nazret\nRegion: Oromia\nCountry: Ethiopia\nApprox. Coordinates: 8.53°N, 39.28°E\n\nEstablishment History:\n1993: Founded as Nazareth Technical College (NTC).\n2003: Upgraded to Nazareth College of Technical Teacher Education (NCTTE).\n2005: Further upgraded to Adama University (AU).\n2011: Designated by the Ethiopian Ministry of Education as a Federal University of Technology and renamed Adama Science and Technology University (ASTU).\n\nType:\nPublic University\nFederal University of Science and Technology\n\nMission (Core Focus):\nTo produce highly qualified graduates in science, engineering, and technology.\nTo conduct problem-solving research relevant to national development needs.\nTo provide community service and technology transfer.\nTo become a center of excellence in applied S&T education and research.\n\nVision (Core Focus):\nTo be a leading international university of science and technology.\nTo significantly contribute to Ethiopia's industrialization and technological advancement.\n\nAcademic Structure (Schools/Colleges/Institutes):\nSchool of Engineering (often the largest, with multiple departments)\nExamples: Mechanical Engineering, Civil Engineering and Architecture, Chemical Engineering, Water Resources and Irrigation Engineering,Materials Science and Engineering.\nSchool of Applied Natural Sciences\nExamples: Physics, Chemistry, Mathematics, Biology, Geology, Pharmacy.\nSchool of Electrical Engineering and Computing\nExamples: Computer Science and Engineering(CSE), Software Engineering,electronics and communication engineering.\nSchool of Humanities and Social Sciences (often supportive roles)\nInstitute of Technology\nPostgraduate Studies Program\n\n(Note: Exact names of schools/departments and their structure can evolve. The above are typical and representative.)\n\nKey Programs Offered:\nUndergraduate (BSc, B.Tech)\nPostgraduate (MSc, M.Tech, PhD)\nFocus on STEM fields (Science, Technology, Engineering, Mathematics).\n\nCampus and Facilities:\nMain Campus: Located in Adama/Nazret.\nAcademic Buildings: Lecture halls, classrooms.\nLaboratories: Specialized labs for various engineering and science disciplines (e.g., electrical, mechanical, chemical, physics, biology labs).\nWorkshops: For practical training in engineering disciplines.\nLibrary: Central library and departmental libraries with physical and digital resources.\nICT Infrastructure: Computer labs, campus network, internet access.\nStudent Accommodation: Dormitories.\nDining Facilities: Student cafeterias.\nSports and Recreation: Sports fields, recreational facilities.\nResearch Centers: May host specialized research centers or institutes focusing on areas like renewable energy, materials science, ICT, etc.\nIncubation Centers: To support student and faculty innovation and entrepreneurship.\n\nResearch Areas and Focus:\nAligned with national development priorities of Ethiopia.\nApplied research with direct industrial and societal impact.\nKey thematic areas often include:\nRenewable Energy Technologies\nManufacturing and Industrial Engineering\nMaterials Science and Engineering\nWater Resources and Environmental Engineering\nInformation and Communication Technology (ICT) solutions\nConstruction Technology and Management\nBiotechnology and Applied Biosciences\n\n\nIndustry Linkages and Collaborations:\nMoUs and partnerships with local and international industries.\nInternships and externships for students.\nCollaborative research projects with industry.\nTechnology transfer and consultancy services.\nPartnerships with other national and international universities and research institutions.\n\nStudent Enrollment:\nTypically enrolls thousands of students annually across undergraduate and postgraduate programs.\nDraws students from all regions of Ethiopia.\n\nGovernance:\nGoverned by a University Board.\nLed by a President, Vice Presidents (for Academic Affairs, Research and Technology Transfer, Administration, etc.).\n\nSignificance and Role:\nOne of Ethiopia's key public universities dedicated to science and technology.\nPlays a crucial role in supplying skilled human resources for Ethiopia's industrial and technological development.\nContributes to national research and innovation efforts.\n\nWebsite: ww.astu.edu.et\nPhysical Address: Adama/Nazret, Ethiopia\n\n\n\n.\nPlugins found: ['tiktoken_ext.openai_public']\ntiktoken version: 0.9.0 (are you on latest?)"
     ]
    }
   ],
   "source": [
    "import torch\n",
    "\n",
    "dataloader=create_dataloader_v1(raw_text,batch_size=1,stride=1,shuffle=False)\n",
    "data_iter=iter(dataloader)\n",
    "first_batch=next(data_iter)\n",
    "\n",
    "print(first_batch)"
   ]
  }
 ],
 "metadata": {
  "kernelspec": {
   "display_name": "3.10.0",
   "language": "python",
   "name": "python3"
  },
  "language_info": {
   "codemirror_mode": {
    "name": "ipython",
    "version": 3
   },
   "file_extension": ".py",
   "mimetype": "text/x-python",
   "name": "python",
   "nbconvert_exporter": "python",
   "pygments_lexer": "ipython3",
   "version": "3.10.0"
  }
 },
 "nbformat": 4,
 "nbformat_minor": 2
}
