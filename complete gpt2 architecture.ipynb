{
 "cells": [
  {
   "cell_type": "code",
   "execution_count": null,
   "metadata": {},
   "outputs": [],
   "source": [
    "GPT_CONFIG_124M={\n",
    "    'vocab_size':50257,\n",
    "    'context_length':1024,\n",
    "    'emb_dim':768,\n",
    "    'n_head':12,\n",
    "    'n_layers':12,\n",
    "    'drop_rate':0.1,\n",
    "    'qkv_bias':False\n",
    "}"
   ]
  },
  {
   "cell_type": "code",
   "execution_count": null,
   "metadata": {},
   "outputs": [],
   "source": [
    "class GPTModel(torch.nn.Module):\n",
    "    def __init__(self,cfg):\n",
    "        super().__init__()\n",
    "        self.tok_emb=torch.nn.Embedding(cfg['vocab_size'],cfg['emb_dim'])\n",
    "        self.pos_emb=torch.nn.Embedding(cfg['context_length'],cfg['emb_dim'])\n",
    "        self.drop_emb=torch.nn.Dropout(cfg['drop_rate'])\n",
    "\n",
    "        self.trf_blocks=torch.nn.Sequential(\n",
    "            *[TransformerBlock(cfg) for _ in range(cfg['n_layers'])])\n",
    "\n",
    "        self.final_norm=LayerNorm(cfg['emb_dim'])#implemented\n",
    "        self.output_head=torch.nn.Linear(cfg['emb_dim'], cfg['vocab_size'])\n",
    "\n",
    "    \n",
    "    def forward(self,in_idx):#input ID\n",
    "        batch_size,seq_len=in_idx.shape()\n",
    "        tok_emb=self.tok_emb(in_idx)\n",
    "        pos_emb=self.pos_emb(torch.arange(seq_len,device=in_idx.device))\n",
    "        x=tok_emb+pos_emb\n",
    "        x=self.drop_emb(x)\n",
    "        x=self.trf_blocks(x)#transformerblock implemented\n",
    "        logits=self.output_head(x)\n",
    "\n",
    "        return logits"
   ]
  }
 ],
 "metadata": {
  "kernelspec": {
   "display_name": "3.10.0",
   "language": "python",
   "name": "python3"
  },
  "language_info": {
   "name": "python",
   "version": "3.10.0"
  }
 },
 "nbformat": 4,
 "nbformat_minor": 2
}
