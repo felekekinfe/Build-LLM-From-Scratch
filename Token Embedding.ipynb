{
 "cells": [
  {
   "cell_type": "code",
   "execution_count": 1,
   "metadata": {},
   "outputs": [],
   "source": [
    "import torch"
   ]
  },
  {
   "cell_type": "code",
   "execution_count": 2,
   "metadata": {},
   "outputs": [],
   "source": [
    "input_ids=torch.tensor([2,3,5,1])"
   ]
  },
  {
   "cell_type": "code",
   "execution_count": 8,
   "metadata": {},
   "outputs": [],
   "source": [
    "#for simplicity use vocab size 6 and embedding size 3\n",
    "\n",
    "vocab_size=6\n",
    "output_dim=3\n",
    "\n",
    "embedding_layers=torch.nn.Embedding(vocab_size,output_dim)"
   ]
  },
  {
   "cell_type": "code",
   "execution_count": 9,
   "metadata": {},
   "outputs": [
    {
     "name": "stdout",
     "output_type": "stream",
     "text": [
      "Parameter containing:\n",
      "tensor([[ 2.2253,  1.5591,  0.0472],\n",
      "        [ 0.3287,  0.0109,  0.0095],\n",
      "        [-0.3663,  0.7540,  0.2065],\n",
      "        [ 1.2211, -0.4279, -1.3518],\n",
      "        [ 1.6022, -0.1259,  0.7456],\n",
      "        [ 1.6949,  0.1223,  1.5113]], requires_grad=True)\n"
     ]
    }
   ],
   "source": [
    "print(embedding_layers.weight)"
   ]
  },
  {
   "cell_type": "code",
   "execution_count": null,
   "metadata": {},
   "outputs": [
    {
     "name": "stdout",
     "output_type": "stream",
     "text": [
      "tensor([[ 1.2211, -0.4279, -1.3518],\n",
      "        [ 0.3287,  0.0109,  0.0095]], grad_fn=<EmbeddingBackward0>)\n"
     ]
    }
   ],
   "source": [
    "print(embedding_layers(torch.tensor([3])))"
   ]
  },
  {
   "cell_type": "code",
   "execution_count": 13,
   "metadata": {},
   "outputs": [
    {
     "name": "stdout",
     "output_type": "stream",
     "text": [
      "tensor([[-0.3663,  0.7540,  0.2065],\n",
      "        [ 1.2211, -0.4279, -1.3518],\n",
      "        [ 1.6949,  0.1223,  1.5113],\n",
      "        [ 0.3287,  0.0109,  0.0095]], grad_fn=<EmbeddingBackward0>)\n"
     ]
    }
   ],
   "source": [
    "print(embedding_layers(input_ids))"
   ]
  }
 ],
 "metadata": {
  "kernelspec": {
   "display_name": "3.10.0",
   "language": "python",
   "name": "python3"
  },
  "language_info": {
   "codemirror_mode": {
    "name": "ipython",
    "version": 3
   },
   "file_extension": ".py",
   "mimetype": "text/x-python",
   "name": "python",
   "nbconvert_exporter": "python",
   "pygments_lexer": "ipython3",
   "version": "3.10.0"
  }
 },
 "nbformat": 4,
 "nbformat_minor": 2
}
