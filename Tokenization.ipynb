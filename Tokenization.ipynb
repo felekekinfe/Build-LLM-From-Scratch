{
 "cells": [
  {
   "cell_type": "markdown",
   "metadata": {},
   "source": [
    "## Creating Tokens"
   ]
  },
  {
   "cell_type": "code",
   "execution_count": 3,
   "metadata": {},
   "outputs": [
    {
     "name": "stdout",
     "output_type": "stream",
     "text": [
      "number of characters: 4358\n"
     ]
    }
   ],
   "source": [
    "#read the txt file\n",
    "with open('data/astu overview.txt','r',encoding='utf-8') as f:\n",
    "    raw_text=f.read()\n",
    "print(f'number of characters:',len(raw_text))"
   ]
  },
  {
   "cell_type": "code",
   "execution_count": 4,
   "metadata": {},
   "outputs": [
    {
     "name": "stdout",
     "output_type": "stream",
     "text": [
      "['hello', ',', '', ' ', 'ethiopia', '?', '', '.', '', ' ', 'this', ',', '', ' ', 'is', ' ', 'nothing']\n"
     ]
    }
   ],
   "source": [
    "import re\n",
    "\n",
    "text='hello, ethiopia?. this, is nothing'\n",
    "token=re.split(r'([,.?]|\\s)',text)\n",
    "print(token)"
   ]
  },
  {
   "cell_type": "markdown",
   "metadata": {},
   "source": [
    "## removing whitespaces"
   ]
  },
  {
   "cell_type": "code",
   "execution_count": 6,
   "metadata": {},
   "outputs": [
    {
     "name": "stdout",
     "output_type": "stream",
     "text": [
      "['hello', ',', 'ethiopia', '?', '.', 'this', ',', 'is', 'nothing']\n"
     ]
    }
   ],
   "source": [
    "#remove white space\n",
    "#removing white space reduce memory and computing requirment\n",
    "#however some data is sensetive to their structure example python code indentaation and spacing in this case keep the white space\n",
    "\n",
    "result=[i for i in token if i.strip()]\n",
    "print(result)"
   ]
  },
  {
   "cell_type": "code",
   "execution_count": 17,
   "metadata": {},
   "outputs": [
    {
     "name": "stdout",
     "output_type": "stream",
     "text": [
      "['University', 'Name:', 'Adama', 'Science', 'and', 'Technology', 'University', '(ASTU)', 'or', 'also', 'called', 'Astu', 'Alternative', 'Names:ASTU', 'Location:', 'City:', 'Adama', '/', 'Nazret', 'Region:', 'Oromia', 'Country:', 'Ethiopia', 'Approx.', 'Coordinates:', '8.53°N,', '39.28°E', 'Establishment', 'History:', '1993:', 'Founded', 'as', 'Nazareth', 'Technical', 'College', '(NTC).', '2003:', 'Upgraded', 'to', 'Nazareth', 'College', 'of', 'Technical', 'Teacher', 'Education', '(NCTTE).', '2005:', 'Further', 'upgraded', 'to', 'Adama', 'University', '(AU).', '2011:', 'Designated', 'by', 'the', 'Ethiopian', 'Ministry', 'of', 'Education', 'as', 'a', 'Federal', 'University', 'of', 'Technology', 'and', 'renamed', 'Adama', 'Science', 'and', 'Technology', 'University', '(ASTU).', 'Type:', 'Public', 'University', 'Federal', 'University', 'of', 'Science', 'and', 'Technology', 'Mission', '(Core', 'Focus):', 'To', 'produce', 'highly', 'qualified', 'graduates', 'in', 'science,', 'engineering,', 'and', 'technology.', 'To', 'conduct']\n"
     ]
    }
   ],
   "source": [
    "#lets tokenize raw_text\n",
    "\n",
    "processed=re.split(r'(/|\\s)',raw_text)\n",
    "processed=[i for i in processed if i.strip()]\n",
    "print(processed[:99])"
   ]
  }
 ],
 "metadata": {
  "kernelspec": {
   "display_name": "base",
   "language": "python",
   "name": "python3"
  },
  "language_info": {
   "codemirror_mode": {
    "name": "ipython",
    "version": 3
   },
   "file_extension": ".py",
   "mimetype": "text/x-python",
   "name": "python",
   "nbconvert_exporter": "python",
   "pygments_lexer": "ipython3",
   "version": "3.9.21"
  }
 },
 "nbformat": 4,
 "nbformat_minor": 2
}
